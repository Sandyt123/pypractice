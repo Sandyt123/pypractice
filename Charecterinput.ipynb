{
 "cells": [
  {
   "cell_type": "markdown",
   "metadata": {},
   "source": [
    "This code will help ,to know that in which year you are going to be 100 years and how many years it will take "
   ]
  },
  {
   "cell_type": "code",
   "execution_count": null,
   "metadata": {},
   "outputs": [
    {
     "name": "stdout",
     "output_type": "stream",
     "text": [
      "plese enter your name Sandeep\n"
     ]
    }
   ],
   "source": [
    "name = input(\"plese enter your name \")\n",
    "age = int(input(\"please enter your age\"))\n",
    "year = str((2019-age)+100)\n",
    "years= str(100-age)\n",
    "print(\"dear\",name,\",you will be 100 years old in \", year)\n",
    "print(\"it takes \", years, \"years\")"
   ]
  },
  {
   "cell_type": "code",
   "execution_count": null,
   "metadata": {},
   "outputs": [],
   "source": []
  }
 ],
 "metadata": {
  "kernelspec": {
   "display_name": "Python 3",
   "language": "python",
   "name": "python3"
  },
  "language_info": {
   "codemirror_mode": {
    "name": "ipython",
    "version": 3
   },
   "file_extension": ".py",
   "mimetype": "text/x-python",
   "name": "python",
   "nbconvert_exporter": "python",
   "pygments_lexer": "ipython3",
   "version": "3.7.1"
  }
 },
 "nbformat": 4,
 "nbformat_minor": 2
}
