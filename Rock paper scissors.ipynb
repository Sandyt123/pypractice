{
 "cells": [
  {
   "cell_type": "markdown",
   "metadata": {},
   "source": [
    "This code will help to play Rock paper scissors "
   ]
  },
  {
   "cell_type": "code",
   "execution_count": 1,
   "metadata": {},
   "outputs": [
    {
     "name": "stdout",
     "output_type": "stream",
     "text": [
      "what is ur name sandeep\n",
      "and ursaish\n",
      "sandeep please choose among these Rock paper scissorsrock\n",
      "aish you too please choose among the abovepaper\n",
      "paper wins\n",
      "None\n"
     ]
    }
   ],
   "source": [
    "import sys\n",
    "\n",
    "\n",
    "player1 = input(\"what is ur name \")\n",
    "player2= input(\"and urs\")\n",
    "player1_response = input(\"%s please choose among these Rock paper scissors\" %player1)\n",
    "player2_response = input(\"%s you too please choose among the above\" %player2)\n",
    "\n",
    "def compare(u1 , u2):\n",
    "    if u1 == u2:\n",
    "        print(\"its a tie\")\n",
    "        \n",
    "        \n",
    "    elif u1 == \"rock\":\n",
    "        if u2 == \"scissors\":\n",
    "            print(\"rock wins\")\n",
    "        else:\n",
    "            print(\"paper wins\")\n",
    "            \n",
    "    elif u1 == \"scissors\":\n",
    "        if u2 == \"paper\":\n",
    "            print(\"scissors wins\")\n",
    "        else:\n",
    "            print(\"rock wins\")\n",
    "    \n",
    "    \n",
    "    elif u1 == \"paper\":\n",
    "        if u2 == \"rock \":\n",
    "            print(\"Paper wins\")\n",
    "        else:\n",
    "            print(\"sciessors wins\")\n",
    "            \n",
    "    else:\n",
    "        return(\"Invalid input! You have not entered rock, paper or scissors, try again.\")\n",
    "        sys.exit()\n",
    "        \n",
    "print(compare(player1_response,player2_response))\n",
    "            \n",
    "        \n",
    "        \n",
    "\n"
   ]
  },
  {
   "cell_type": "code",
   "execution_count": null,
   "metadata": {},
   "outputs": [],
   "source": []
  }
 ],
 "metadata": {
  "kernelspec": {
   "display_name": "Python 3",
   "language": "python",
   "name": "python3"
  },
  "language_info": {
   "codemirror_mode": {
    "name": "ipython",
    "version": 3
   },
   "file_extension": ".py",
   "mimetype": "text/x-python",
   "name": "python",
   "nbconvert_exporter": "python",
   "pygments_lexer": "ipython3",
   "version": "3.7.1"
  }
 },
 "nbformat": 4,
 "nbformat_minor": 2
}
